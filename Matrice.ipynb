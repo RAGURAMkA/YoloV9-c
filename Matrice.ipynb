{
  "nbformat": 4,
  "nbformat_minor": 0,
  "metadata": {
    "colab": {
      "provenance": []
    },
    "kernelspec": {
      "name": "python3",
      "display_name": "Python 3"
    },
    "language_info": {
      "name": "python"
    }
  },
  "cells": [
    {
      "cell_type": "code",
      "source": [
        "!wget -P {HOME}/weights -q https://github.com/WongKinYiu/yolov9/releases/download/v0.1/yolov9-c.pt"
      ],
      "metadata": {
        "id": "MkkpDRfcFPM5"
      },
      "execution_count": null,
      "outputs": []
    },
    {
      "cell_type": "code",
      "source": [
        "!git clone https://github.com/WongKinYiu/yolov9.git"
      ],
      "metadata": {
        "id": "P7jr4zgm4cyq",
        "outputId": "a3efd016-bf15-4df1-dae4-5cd8390947ce",
        "colab": {
          "base_uri": "https://localhost:8080/"
        }
      },
      "execution_count": null,
      "outputs": [
        {
          "output_type": "stream",
          "name": "stdout",
          "text": [
            "Cloning into 'yolov9'...\n",
            "remote: Enumerating objects: 668, done.\u001b[K\n",
            "remote: Counting objects: 100% (290/290), done.\u001b[K\n",
            "remote: Compressing objects: 100% (91/91), done.\u001b[K\n",
            "remote: Total 668 (delta 222), reused 199 (delta 199), pack-reused 378\u001b[K\n",
            "Receiving objects: 100% (668/668), 3.22 MiB | 8.40 MiB/s, done.\n",
            "Resolving deltas: 100% (269/269), done.\n"
          ]
        }
      ]
    },
    {
      "cell_type": "code",
      "source": [
        "!wget https://s3.us-west-2.amazonaws.com/testing.resources/datasets/deepfashion/deep_fashion.tar"
      ],
      "metadata": {
        "id": "2-QaeF5eLiA0",
        "colab": {
          "base_uri": "https://localhost:8080/"
        },
        "outputId": "5721464a-40fc-4bd0-ff35-30998177d079"
      },
      "execution_count": null,
      "outputs": [
        {
          "output_type": "stream",
          "name": "stdout",
          "text": [
            "--2024-05-04 15:04:37--  https://s3.us-west-2.amazonaws.com/testing.resources/datasets/deepfashion/deep_fashion.tar\n",
            "Resolving s3.us-west-2.amazonaws.com (s3.us-west-2.amazonaws.com)... 52.218.153.200, 52.92.234.0, 52.92.209.120, ...\n",
            "Connecting to s3.us-west-2.amazonaws.com (s3.us-west-2.amazonaws.com)|52.218.153.200|:443... connected.\n",
            "HTTP request sent, awaiting response... 200 OK\n",
            "Length: 17681387520 (16G) [application/x-tar]\n",
            "Saving to: ‘deep_fashion.tar’\n",
            "\n",
            "deep_fashion.tar    100%[===================>]  16.47G  39.8MB/s    in 7m 57s  \n",
            "\n",
            "2024-05-04 15:12:34 (35.4 MB/s) - ‘deep_fashion.tar’ saved [17681387520/17681387520]\n",
            "\n"
          ]
        }
      ]
    },
    {
      "cell_type": "code",
      "source": [
        "import tarfile\n",
        "import os\n",
        "import cv2\n",
        "import matplotlib.pyplot as plt\n",
        "import json\n",
        "import pandas as pd\n",
        "from sklearn.model_selection import train_test_split\n",
        "import shutil\n",
        "import argparse\n",
        "import yaml\n",
        "from PIL import Image, ImageDraw\n",
        "import torch\n",
        "from torch.utils.data import Dataset\n",
        "from torchvision.transforms import ToTensor\n",
        "import torch\n",
        "import torchvision.transforms as transforms\n",
        "import numpy as np\n",
        "from pycocotools.coco import COCO\n",
        "from pycocotools.cocoeval import COCOeval"
      ],
      "metadata": {
        "id": "scLhven8V1g4"
      },
      "execution_count": 38,
      "outputs": []
    },
    {
      "cell_type": "code",
      "source": [
        "tar_path = \"/content/deep_fashion.tar\"\n",
        "with tarfile.open(tar_path, 'r') as tar:\n",
        "    tar.extractall()"
      ],
      "metadata": {
        "id": "GXlCf1VPUPBS"
      },
      "execution_count": null,
      "outputs": []
    },
    {
      "cell_type": "code",
      "source": [
        "os.chdir(\"/content/deep_fashion/images/train\")\n",
        "files = os.listdir()\n",
        "num_files = len(files)\n",
        "file_types = set()\n",
        "for file in files:\n",
        "    if os.path.isfile(file):\n",
        "        file_extension = os.path.splitext(file)[1]\n",
        "        file_types.add(file_extension)\n",
        "print(\"Number of files:\", num_files)\n",
        "print(\"File types present:\", file_types)"
      ],
      "metadata": {
        "colab": {
          "base_uri": "https://localhost:8080/"
        },
        "id": "WMGSVLS_WDAx",
        "outputId": "df50276e-62a7-4176-abff-9bfe433caa6c"
      },
      "execution_count": null,
      "outputs": [
        {
          "output_type": "stream",
          "name": "stdout",
          "text": [
            "Number of files: 191961\n",
            "File types present: {'.jpg'}\n"
          ]
        }
      ]
    },
    {
      "cell_type": "code",
      "source": [
        "def show_image(image_path):\n",
        "    image = cv2.imread(image_path)\n",
        "    image = cv2.cvtColor(image, cv2.COLOR_BGR2RGB)\n",
        "    plt.imshow(image)\n",
        "    plt.axis('off')\n",
        "    plt.show()\n",
        "image_path = \"/content/deep_fashion/images/train/000002.jpg\"\n",
        "show_image(image_path)"
      ],
      "metadata": {
        "colab": {
          "base_uri": "https://localhost:8080/",
          "height": 406
        },
        "id": "kq41Om7Kh-VH",
        "outputId": "927cac1b-b513-4e7f-b88f-04aeeecab05f"
      },
      "execution_count": null,
      "outputs": [
        {
          "output_type": "display_data",
          "data": {
            "text/plain": [
              "<Figure size 640x480 with 1 Axes>"
            ],
            "image/png": "[encoded data removed]"
          },
          "metadata": {}
        }
      ]
    },
    {
      "cell_type": "code",
      "source": [
        "json_file_path = \"/content/deep_fashion/annotations/instances_train2024.json\"\n",
        "with open(json_file_path, \"r\") as f:\n",
        "    first_few_chars = f.read(8000)\n",
        "print(first_few_chars)"
      ],
      "metadata": {
        "colab": {
          "base_uri": "https://localhost:8080/"
        },
        "id": "XiheLmKfbV4z",
        "outputId": "73539f48-cd2c-42b5-e081-dd58f42c3e60"
      },
      "execution_count": null,
      "outputs": [
        {
          "output_type": "stream",
          "name": "stdout",
          "text": [
            "{\n",
            "    \"info\": {\n",
            "        \"year\": \"2024\",\n",
            "        \"version\": \"1\",\n",
            "        \"description\": \"Sample dataset created from MSCOCO\",\n",
            "        \"contributors\": \"Matrice.ai\",\n",
            "        \"url\": \"\",\n",
            "        \"date_created\": \"2024-03-13 08:06:01\"\n",
            "    },\n",
            "    \"categories\": [\n",
            "        {\n",
            "            \"id\": 8,\n",
            "            \"name\": \"trousers\",\n",
            "            \"supercategory\": \"deep fashion\"\n",
            "        },\n",
            "        {\n",
            "            \"id\": 1,\n",
            "            \"name\": \"short sleeve top\",\n",
            "            \"supercategory\": \"deep fashion\"\n",
            "        },\n",
            "        {\n",
            "            \"id\": 11,\n",
            "            \"name\": \"long sleeve dress\",\n",
            "            \"supercategory\": \"deep fashion\"\n",
            "        },\n",
            "        {\n",
            "            \"id\": 2,\n",
            "            \"name\": \"long sleeve top\",\n",
            "            \"supercategory\": \"deep fashion\"\n",
            "        },\n",
            "        {\n",
            "            \"id\": 9,\n",
            "            \"name\": \"skirt\",\n",
            "            \"supercategory\": \"deep fashion\"\n",
            "        },\n",
            "        {\n",
            "            \"id\": 7,\n",
            "            \"name\": \"shorts\",\n",
            "            \"supercategory\": \"deep fashion\"\n",
            "        },\n",
            "        {\n",
            "            \"id\": 4,\n",
            "            \"name\": \"long sleeve outwear\",\n",
            "            \"supercategory\": \"deep fashion\"\n",
            "        },\n",
            "        {\n",
            "            \"id\": 12,\n",
            "            \"name\": \"vest dress\",\n",
            "            \"supercategory\": \"deep fashion\"\n",
            "        },\n",
            "        {\n",
            "            \"id\": 10,\n",
            "            \"name\": \"short sleeve dress\",\n",
            "            \"supercategory\": \"deep fashion\"\n",
            "        },\n",
            "        {\n",
            "            \"id\": 5,\n",
            "            \"name\": \"vest\",\n",
            "            \"supercategory\": \"deep fashion\"\n",
            "        },\n",
            "        {\n",
            "            \"id\": 13,\n",
            "            \"name\": \"sling dress\",\n",
            "            \"supercategory\": \"deep fashion\"\n",
            "        },\n",
            "        {\n",
            "            \"id\": 3,\n",
            "            \"name\": \"short sleeve outwear\",\n",
            "            \"supercategory\": \"deep fashion\"\n",
            "        },\n",
            "        {\n",
            "            \"id\": 6,\n",
            "            \"name\": \"sling\",\n",
            "            \"supercategory\": \"deep fashion\"\n",
            "        }\n",
            "    ],\n",
            "    \"annotations\": [\n",
            "        {\n",
            "            \"segmentation\": [\n",
            "                [\n",
            "                    460,\n",
            "                    438,\n",
            "                    374,\n",
            "                    484,\n",
            "                    251,\n",
            "                    520,\n",
            "                    269,\n",
            "                    586,\n",
            "                    298,\n",
            "                    622,\n",
            "                    410,\n",
            "                    623,\n",
            "                    410,\n",
            "                    567,\n",
            "                    413,\n",
            "                    591,\n",
            "                    420,\n",
            "                    623,\n",
            "                    465,\n",
            "                    622,\n",
            "                    456,\n",
            "                    561,\n",
            "                    466,\n",
            "                    504,\n",
            "                    460,\n",
            "                    438\n",
            "                ],\n",
            "                [\n",
            "                    374,\n",
            "                    484,\n",
            "                    251,\n",
            "                    520,\n",
            "                    269,\n",
            "                    586,\n",
            "                    298,\n",
            "                    622,\n",
            "                    410,\n",
            "                    623,\n",
            "                    410,\n",
            "                    567,\n",
            "                    374,\n",
            "                    484\n",
            "                ],\n",
            "                [\n",
            "                    460,\n",
            "                    438,\n",
            "                    374,\n",
            "                    484,\n",
            "                    410,\n",
            "                    567,\n",
            "                    413,\n",
            "                    591,\n",
            "                    420,\n",
            "                    623,\n",
            "                    465,\n",
            "                    622,\n",
            "                    456,\n",
            "                    561,\n",
            "                    466,\n",
            "                    504,\n",
            "                    460,\n",
            "                    438\n",
            "                ]\n",
            "            ],\n",
            "            \"landmarks\": [\n",
            "                251,\n",
            "                520,\n",
            "                1,\n",
            "                374,\n",
            "                484,\n",
            "                1,\n",
            "                460,\n",
            "                438,\n",
            "                1,\n",
            "                269,\n",
            "                586,\n",
            "                1,\n",
            "                0,\n",
            "                0,\n",
            "                0,\n",
            "                0,\n",
            "                0,\n",
            "                0,\n",
            "                0,\n",
            "                0,\n",
            "                0,\n",
            "                0,\n",
            "                0,\n",
            "                0,\n",
            "                410,\n",
            "                567,\n",
            "                1,\n",
            "                413,\n",
            "                591,\n",
            "                2,\n",
            "                0,\n",
            "                0,\n",
            "                0,\n",
            "                0,\n",
            "                0,\n",
            "                0,\n",
            "                456,\n",
            "                561,\n",
            "                2,\n",
            "                0,\n",
            "                0,\n",
            "                0\n",
            "            ],\n",
            "            \"category_id\": 8,\n",
            "            \"is_crowd\": [\n",
            "                0\n",
            "            ],\n",
            "            \"bbox\": [\n",
            "                249,\n",
            "                423,\n",
            "                217,\n",
            "                200\n",
            "            ],\n",
            "            \"id\": 1,\n",
            "            \"image_id\": \"000001\"\n",
            "        },\n",
            "        {\n",
            "            \"segmentation\": [\n",
            "                [\n",
            "                    257,\n",
            "                    35,\n",
            "                    261,\n",
            "                    89,\n",
            "                    228,\n",
            "                    123,\n",
            "                    137,\n",
            "                    103,\n",
            "                    45,\n",
            "                    91,\n",
            "                    1,\n",
            "                    176,\n",
            "                    0,\n",
            "                    332,\n",
            "                    47,\n",
            "                    447,\n",
            "                    151,\n",
            "                    401,\n",
            "                    141,\n",
            "                    366,\n",
            "                    129,\n",
            "                    328,\n",
            "                    141,\n",
            "                    364,\n",
            "                    219,\n",
            "                    485,\n",
            "                    274,\n",
            "                    603,\n",
            "                    401,\n",
            "                    590,\n",
            "                    467,\n",
            "                    502,\n",
            "                    442,\n",
            "                    336,\n",
            "                    369,\n",
            "                    195,\n",
            "                    348,\n",
            "                    138,\n",
            "                    363,\n",
            "                    163,\n",
            "                    372,\n",
            "                    197,\n",
            "                    433,\n",
            "                    137,\n",
            "                    396,\n",
            "                    92,\n",
            "                    341,\n",
            "                    35,\n",
            "                    257,\n",
            "                    35\n",
            "                ],\n",
            "                [\n",
            "                    1,\n",
            "                    176,\n",
            "                    0,\n",
            "                    332,\n",
            "                    47,\n",
            "                    447,\n",
            "                    151,\n",
            "                    401,\n",
            "                    141,\n",
            "                    366,\n",
            "                    129,\n",
            "                    328,\n",
            "                    1,\n",
            "                    176\n",
            "                ],\n",
            "                [\n",
            "                    348,\n",
            "                    138,\n",
            "                    363,\n",
            "                    163,\n",
            "                    372,\n",
            "                    197,\n",
            "                    433,\n",
            "                    137,\n",
            "                    396,\n",
            "                    92,\n",
            "                    341,\n",
            "                    35,\n",
            "                    348,\n",
            "                    138\n",
            "                ]\n",
            "            ],\n",
            "            \"landmarks\": [\n",
            "                182,\n",
            "                54,\n",
            "                1,\n",
            "                45,\n",
            "                91,\n",
            "                1,\n",
            "                137,\n",
            "                103,\n",
            "                1,\n",
            "                228,\n",
            "                123,\n",
            "                1,\n",
            "                261,\n",
            "                89,\n",
            "                1,\n",
            "                257,\n",
            "                35,\n",
            "                1,\n",
            "                0,\n",
            "                0,\n",
            "                0,\n",
            "                0,\n",
            "                0,\n",
            "                0,\n",
            "                47,\n",
            "                447,\n",
            "                2,\n",
            "                151,\n",
            "                401,\n",
            "                2,\n",
            "                141,\n",
            "                366,\n",
            "                2,\n",
            "                129,\n",
            "                328,\n",
            "                2,\n",
            "                141,\n",
            "                364,\n",
            "                2,\n",
            "                219,\n",
            "                485,\n",
            "                2,\n",
            "                274,\n",
            "                603,\n",
            "                2,\n",
            "                401,\n",
            "                590,\n",
            "                2,\n",
            "                0,\n",
            "                0,\n",
            "                0,\n",
            "                442,\n",
            "                336,\n",
            "                2,\n",
            "                369,\n",
            "                195,\n",
            "                1,\n",
            "                348,\n",
            "                138,\n",
            "                1,\n",
            "                363,\n",
            "                163,\n",
            "               \n"
          ]
        }
      ]
    },
    {
      "cell_type": "code",
      "source": [
        "with open(json_file_path, \"r\") as f:\n",
        "    data_category = json.load(f)\n",
        "categories = data_category.pop(\"categories\")\n",
        "df = pd.DataFrame(data_category.pop(\"annotations\"))\n",
        "df_category = pd.DataFrame(categories)\n",
        "print(df.head())"
      ],
      "metadata": {
        "colab": {
          "base_uri": "https://localhost:8080/"
        },
        "id": "JC2eEYoJZ2Jz",
        "outputId": "db023666-10f6-49f7-e4ac-610c1028e32a"
      },
      "execution_count": null,
      "outputs": [
        {
          "output_type": "stream",
          "name": "stdout",
          "text": [
            "                                        segmentation  \\\n",
            "0  [[460, 438, 374, 484, 251, 520, 269, 586, 298,...   \n",
            "1  [[257, 35, 261, 89, 228, 123, 137, 103, 45, 91...   \n",
            "2  [[220.25, 187.55, 259.6, 177.6, 296.6, 158.6, ...   \n",
            "3  [[145.21, 314.0, 162.67, 312.8, 175.12, 313.05...   \n",
            "4  [[338, 64, 299, 133, 228, 189, 183, 121, 160, ...   \n",
            "\n",
            "                                           landmarks  category_id is_crowd  \\\n",
            "0  [251, 520, 1, 374, 484, 1, 460, 438, 1, 269, 5...            8      [0]   \n",
            "1  [182, 54, 1, 45, 91, 1, 137, 103, 1, 228, 123,...            1      [0]   \n",
            "2  [271, 172, 2, 313, 145, 2, 0, 0, 0, 0, 0, 0, 0...            1      [0]   \n",
            "3  [127, 335, 1, 73, 340, 1, 107, 354, 1, 140, 35...            1      [0]   \n",
            "4  [240, 108, 2, 160, 63, 2, 183, 121, 2, 228, 18...           11      [0]   \n",
            "\n",
            "                   bbox  id image_id  \n",
            "0  [249, 423, 217, 200]   1   000001  \n",
            "1     [0, 29, 466, 593]   2   000001  \n",
            "2  [165, 133, 301, 439]   3   000002  \n",
            "3    [1, 300, 366, 401]   4   000002  \n",
            "4     [1, 52, 466, 779]   5   000003  \n"
          ]
        }
      ]
    },
    {
      "cell_type": "code",
      "source": [
        "image_category_counts = df.groupby('image_id')['category_id'].nunique()\n",
        "equal_quantity_images = image_category_counts[image_category_counts == image_category_counts.iloc[0]].index\n",
        "equal_quantity_images_df = pd.DataFrame(equal_quantity_images, columns=['image_id'])\n",
        "equal_quantity_images_df = equal_quantity_images_df.sample(frac=1).reset_index(drop=True)\n",
        "selected_images = equal_quantity_images_df['image_id'][:500]\n",
        "filtered_df = df[df['image_id'].isin(selected_images)]\n",
        "print(filtered_df.head())"
      ],
      "metadata": {
        "colab": {
          "base_uri": "https://localhost:8080/"
        },
        "id": "lNxAqB7HhB5_",
        "outputId": "a102f7aa-fef2-41d1-82f2-3e742296b746"
      },
      "execution_count": null,
      "outputs": [
        {
          "output_type": "stream",
          "name": "stdout",
          "text": [
            "                                           segmentation  \\\n",
            "1052  [[273, 560, 345, 570, 415, 565, 435, 660, 454,...   \n",
            "1053  [[315, 468, 319, 425, 325, 381, 281, 390, 249,...   \n",
            "1511  [[288, 435, 217, 445, 152, 438, 147, 533, 156,...   \n",
            "1512  [[206, 191, 206, 165, 204, 140, 188, 145, 168,...   \n",
            "1691  [[452, 297, 426, 299, 396, 318, 391, 289, 371,...   \n",
            "\n",
            "                                              landmarks  category_id is_crowd  \\\n",
            "1052  [273, 560, 1, 345, 570, 1, 415, 565, 1, 249, 6...            9      [0]   \n",
            "1053  [366, 384, 1, 325, 381, 2, 319, 425, 2, 315, 4...            4      [0]   \n",
            "1511  [152, 438, 1, 217, 445, 1, 288, 435, 1, 147, 5...            8      [0]   \n",
            "1512  [234, 157, 1, 204, 140, 1, 206, 165, 2, 206, 1...            4      [0]   \n",
            "1691  [400, 283, 1, 371, 268, 1, 391, 289, 1, 396, 3...            2      [0]   \n",
            "\n",
            "                      bbox    id image_id  \n",
            "1052  [201, 543, 268, 254]  1053   000643  \n",
            "1053  [224, 370, 253, 326]  1054   000643  \n",
            "1511  [138, 423, 159, 319]  1512   000939  \n",
            "1512   [82, 124, 290, 545]  1513   000939  \n",
            "1691  [174, 266, 345, 459]  1692   001051  \n"
          ]
        }
      ]
    },
    {
      "cell_type": "code",
      "source": [
        "print(len(filtered_df))\n",
        "print(len(filtered_df['image_id'].unique()))"
      ],
      "metadata": {
        "colab": {
          "base_uri": "https://localhost:8080/"
        },
        "id": "0-yi1D5G6WyY",
        "outputId": "5c2d07aa-cad4-4fb4-ead6-7aff8878310c"
      },
      "execution_count": null,
      "outputs": [
        {
          "output_type": "stream",
          "name": "stdout",
          "text": [
            "1004\n",
            "500\n"
          ]
        }
      ]
    },
    {
      "cell_type": "code",
      "source": [
        "category_counts = df['category_id'].value_counts()\n",
        "print(category_counts)"
      ],
      "metadata": {
        "colab": {
          "base_uri": "https://localhost:8080/"
        },
        "id": "N8iz3s-HvtOO",
        "outputId": "e7796fd4-d916-4057-82df-0a4a4d0cf69e"
      },
      "execution_count": null,
      "outputs": [
        {
          "output_type": "stream",
          "name": "stdout",
          "text": [
            "category_id\n",
            "1     71645\n",
            "8     55387\n",
            "7     36616\n",
            "2     36064\n",
            "9     30835\n",
            "12    17949\n",
            "10    17211\n",
            "5     16095\n",
            "4     13457\n",
            "11     7907\n",
            "13     6492\n",
            "6      1985\n",
            "3       543\n",
            "Name: count, dtype: int64\n"
          ]
        }
      ]
    },
    {
      "cell_type": "code",
      "source": [
        "filtered_image_ids = filtered_df['image_id'].unique()\n",
        "folder_path = \"/content/deep_fashion/images/train\"\n",
        "all_files = os.listdir(folder_path)\n",
        "for file_name in all_files:\n",
        "    image_id = file_name.split(\".\")[0]\n",
        "    if image_id not in filtered_image_ids:\n",
        "        file_path = os.path.join(folder_path, file_name)\n",
        "        os.remove(file_path)"
      ],
      "metadata": {
        "id": "p_2rR-AmwW4Z"
      },
      "execution_count": null,
      "outputs": []
    },
    {
      "cell_type": "code",
      "source": [
        "df_shuffled = filtered_df.sample(frac=1, random_state=42)\n",
        "train_size = int(0.7 * len(df_shuffled))\n",
        "val_size = int(0.2 * len(df_shuffled))\n",
        "test_size = len(df_shuffled) - train_size - val_size\n",
        "train_df, temp_df = train_test_split(df_shuffled, train_size=train_size, random_state=42)\n",
        "val_df, test_df = train_test_split(temp_df, train_size=val_size, random_state=42)\n",
        "train_df.reset_index(drop=True, inplace=True)\n",
        "val_df.reset_index(drop=True, inplace=True)\n",
        "test_df.reset_index(drop=True, inplace=True)\n",
        "print(\"Train set size:\", len(train_df))\n",
        "print(\"Validation set size:\", len(val_df))\n",
        "print(\"Test set size:\", len(test_df))\n"
      ],
      "metadata": {
        "colab": {
          "base_uri": "https://localhost:8080/"
        },
        "id": "VZc-KxFm00NV",
        "outputId": "ce6b0c5e-7524-4058-c5b8-769c7404a28a"
      },
      "execution_count": null,
      "outputs": [
        {
          "output_type": "stream",
          "name": "stdout",
          "text": [
            "Train set size: 702\n",
            "Validation set size: 200\n",
            "Test set size: 102\n"
          ]
        }
      ]
    },
    {
      "cell_type": "code",
      "source": [
        "import json\n",
        "import numpy as np\n",
        "\n",
        "def dataframe_to_coco(dataframe, image_dir, output_json):\n",
        "  coco_data = {}\n",
        "  coco_data[\"info\"] = {}\n",
        "  coco_data[\"licenses\"] = []\n",
        "  coco_data[\"images\"] = []\n",
        "  coco_data[\"annotations\"] = []\n",
        "  coco_img_id = 0\n",
        "  coco_ann_id = 0\n",
        "\n",
        "  categories = [\n",
        "      {\n",
        "            \"id\": 8,\n",
        "            \"name\": \"trousers\"\n",
        "        },\n",
        "        {\n",
        "            \"id\": 1,\n",
        "            \"name\": \"short sleeve top\"\n",
        "        },\n",
        "        {\n",
        "            \"id\": 11,\n",
        "            \"name\": \"long sleeve dress\"\n",
        "        },\n",
        "        {\n",
        "            \"id\": 2,\n",
        "            \"name\": \"long sleeve top\"\n",
        "        },\n",
        "        {\n",
        "            \"id\": 9,\n",
        "            \"name\": \"skirt\"\n",
        "        },\n",
        "        {\n",
        "            \"id\": 7,\n",
        "            \"name\": \"shorts\"\n",
        "        },\n",
        "        {\n",
        "            \"id\": 4,\n",
        "            \"name\": \"long sleeve outwear\"\n",
        "        },\n",
        "        {\n",
        "            \"id\": 12,\n",
        "            \"name\": \"vest dress\"\n",
        "        },\n",
        "        {\n",
        "            \"id\": 10,\n",
        "            \"name\": \"short sleeve dress\"\n",
        "        },\n",
        "        {\n",
        "            \"id\": 5,\n",
        "            \"name\": \"vest\"\n",
        "        },\n",
        "        {\n",
        "            \"id\": 13,\n",
        "            \"name\": \"sling dress\"\n",
        "        },\n",
        "        {\n",
        "            \"id\": 3,\n",
        "            \"name\": \"short sleeve outwear\"\n",
        "        },\n",
        "        {\n",
        "            \"id\": 6,\n",
        "            \"name\": \"sling\"\n",
        "        }\n",
        "  ]\n",
        "  coco_data[\"categories\"] = categories\n",
        "\n",
        "  for index, row in dataframe.iterrows():\n",
        "    image_id = coco_img_id\n",
        "    coco_img_id += 1\n",
        "\n",
        "    image_file = os.path.join(image_dir, row[\"image_id\"])\n",
        "    image_width, image_height = (640, 960)\n",
        "\n",
        "    image = {\n",
        "        \"id\": image_id,\n",
        "        \"file_name\": image_file,\n",
        "        \"width\": image_width,\n",
        "        \"height\": image_height,\n",
        "    }\n",
        "    coco_data[\"images\"].append(image)\n",
        "\n",
        "    segmentation = row[\"segmentation\"]\n",
        "    rle = []\n",
        "    for contour in segmentation:\n",
        "      contour = np.array(contour).reshape((-1, 1, 2))\n",
        "      rle.extend(cv2.imencode(\".png\", contour)[1].flatten())\n",
        "\n",
        "    area = cv2.contourArea(np.array(segmentation))\n",
        "\n",
        "    annotation = {\n",
        "        \"id\": coco_ann_id,\n",
        "        \"image_id\": image_id,\n",
        "        \"category_id\": row[\"category_id\"],\n",
        "        \"iscrowd\": row[\"is_crowd\"],\n",
        "        \"area\": area,\n",
        "        \"segmentation\": rle,\n",
        "        \"bbox\": row[\"bbox\"],\n",
        "        \"landmarks\": row[\"landmarks\"],\n",
        "    }\n",
        "    coco_data[\"annotations\"].append(annotation)\n",
        "    coco_ann_id += 1\n",
        "\n",
        "  with open(\"coco_fomat.yaml\", \"w\") as f:\n",
        "    yaml.dump(coco_data, f)\n",
        "\n",
        "dataframe = train_df\n",
        "image_dir = \"/content/deep_fashion/images/train\"\n",
        "output_json = \"train_coco.json\"\n",
        "\n",
        "dataframe_to_coco(dataframe, image_dir, output_json)"
      ],
      "metadata": {
        "id": "k_v3ju_ZwVjj"
      },
      "execution_count": null,
      "outputs": []
    },
    {
      "cell_type": "code",
      "source": [
        "class CustomDataset(Dataset):\n",
        "    def __init__(self, dataframe, root_dir, transform=None):\n",
        "        self.dataframe = dataframe\n",
        "        self.root_dir = root_dir\n",
        "        self.transform = transform\n",
        "\n",
        "    def __len__(self):\n",
        "        return len(self.dataframe)\n",
        "\n",
        "    def __getitem__(self, idx):\n",
        "        if torch.is_tensor(idx):\n",
        "            idx = idx.tolist()\n",
        "\n",
        "        img_name = os.path.join(self.root_dir, self.dataframe.iloc[idx, 7])\n",
        "        image = Image.open(img_name)\n",
        "\n",
        "        segmentation = self.dataframe.iloc[idx, 0]\n",
        "        landmarks = self.dataframe.iloc[idx, 1]\n",
        "        category_id = self.dataframe.iloc[idx, 2]\n",
        "        is_crowd = self.dataframe.iloc[idx, 3]\n",
        "        bbox = self.dataframe.iloc[idx, 4]\n",
        "\n",
        "        sample = {\n",
        "            'image': image,\n",
        "            'segmentation': segmentation,\n",
        "            'landmarks': landmarks,\n",
        "            'category_id': category_id,\n",
        "            'is_crowd': is_crowd,\n",
        "            'bbox': bbox\n",
        "        }\n",
        "\n",
        "        if self.transform:\n",
        "            sample = self.transform(sample)\n",
        "\n",
        "        return sample"
      ],
      "metadata": {
        "id": "xXNmLwmYH2Nl"
      },
      "execution_count": 25,
      "outputs": []
    },
    {
      "cell_type": "code",
      "source": [
        "root_dir = '/content/deep_fashion/images/train'\n",
        "transform = ToTensor()\n",
        "dataset = CustomDataset(dataframe=train_df, root_dir=root_dir, transform=transform)"
      ],
      "metadata": {
        "id": "R2j0f6zRIgKn"
      },
      "execution_count": 26,
      "outputs": []
    },
    {
      "cell_type": "code",
      "source": [
        "sample = dataset[0]\n",
        "\n",
        "# You can now access elements of the sample dictionary\n",
        "print(image = sample['image'])  # Image tensor\n",
        "print(segmentation = sample['segmentation'])  # Segmentation mask\n",
        "print(landmarks = sample['landmarks'])  # Landmarks\n",
        "print(category_id = sample['category_id'])  # Category ID\n",
        "print(is_crowd = sample['is_crowd'])  # Crowd information\n",
        "print(bbox = sample['bbox'])  # Bounding box coordinates"
      ],
      "metadata": {
        "id": "8Rgfbv30jiuh"
      },
      "execution_count": null,
      "outputs": []
    },
    {
      "cell_type": "code",
      "source": [
        "modified_yaml_file_path = '/content/yolov9-c.yaml'\n",
        "yolov9_repo_dir = '/content/yolov9'\n",
        "destination_dir = f'{yolov9_repo_dir}/models/detect/'\n",
        "shutil.copy(modified_yaml_file_path, destination_dir)"
      ],
      "metadata": {
        "id": "Mbqn2LoP2Y11",
        "colab": {
          "base_uri": "https://localhost:8080/",
          "height": 36
        },
        "outputId": "123ac283-7bd7-4433-b7a6-7137bfac723b"
      },
      "execution_count": 27,
      "outputs": [
        {
          "output_type": "execute_result",
          "data": {
            "text/plain": [
              "'/content/yolov9/models/detect/yolov9-c.yaml'"
            ],
            "application/vnd.google.colaboratory.intrinsic+json": {
              "type": "string"
            }
          },
          "metadata": {},
          "execution_count": 27
        }
      ]
    },
    {
      "cell_type": "code",
      "source": [
        "def parse_opt(config_file=None, known=False):\n",
        "    parser = argparse.ArgumentParser()\n",
        "    parser.add_argument('--config', type=str, default=config_file, help='Config YAML file path')\n",
        "    args, _ = parser.parse_known_args()\n",
        "\n",
        "    if args.config is None:\n",
        "        parser.error('Please provide the path to the config YAML file using --config')\n",
        "\n",
        "    with open(args.config, 'r') as f:\n",
        "        config = yaml.safe_load(f)\n",
        "\n",
        "    parser = argparse.ArgumentParser()\n",
        "    for key, value in config.items():\n",
        "        if isinstance(value, bool):\n",
        "            parser.add_argument(f'--{key}', action='store_true', help=f'{key}')\n",
        "        else:\n",
        "            parser.add_argument(f'--{key}', type=type(value), default=value, help=f'{key}')\n",
        "\n",
        "    return parser.parse_known_args()[0] if known else parser.parse_args()"
      ],
      "metadata": {
        "id": "TG3JAmkE6v7F"
      },
      "execution_count": 28,
      "outputs": []
    },
    {
      "cell_type": "code",
      "source": [
        "!python train.py --config /content/config.yaml\n"
      ],
      "metadata": {
        "id": "bPC3gfFjGPC1"
      },
      "execution_count": null,
      "outputs": []
    },
    {
      "cell_type": "code",
      "source": [
        "model = torch.load(\"/content/model.pt\")\n",
        "transform = transforms.Compose([\n",
        "    transforms.ToTensor(),\n",
        "])\n",
        "image_path = \"/content/deep_fashion/images/train/052609.jpg\"\n",
        "image = Image.open(image_path).convert(\"RGB\")\n",
        "\n",
        "input_image = transform(image)\n",
        "input_image = input_image.unsqueeze(0)\n",
        "\n",
        "with torch.no_grad():\n",
        "    output = model(input_image)\n",
        "\n",
        "bounding_boxes = output[\"bounding_boxes\"]\n",
        "masks = output[\"masks\"]\n",
        "\n",
        "bounding_boxes = bounding_boxes.detach().cpu().numpy()\n",
        "masks = masks.detach().cpu().numpy()\n",
        "\n",
        "plt.figure(figsize=(10, 10))\n",
        "plt.imshow(image)\n",
        "\n",
        "for box in bounding_boxes:\n",
        "    x, y, w, h = box\n",
        "    plt.gca().add_patch(plt.Rectangle((x, y), w, h, fill=False, edgecolor=\"red\", linewidth=2))\n",
        "\n",
        "for mask in masks:\n",
        "    plt.imshow(mask, alpha=0.5)\n",
        "\n",
        "plt.axis(\"off\")\n",
        "plt.show()"
      ],
      "metadata": {
        "id": "BFMNIZrr13Xu"
      },
      "execution_count": null,
      "outputs": []
    },
    {
      "cell_type": "code",
      "source": [
        "transform = transforms.Compose([\n",
        "    transforms.ToTensor(),\n",
        "])\n",
        "\n",
        "val_coco = COCO(\"/content/val.json\")\n",
        "test_coco = COCO(\"/content/test.json\")\n",
        "\n",
        "val_detection_results = []\n",
        "test_detection_results = []\n",
        "\n",
        "for img_id in val_coco.getImgIds():\n",
        "    img_info = val_coco.loadImgs(img_id)[0]\n",
        "    image_path = \"content/val/\" + img_info[\"images\"]\n",
        "    image = Image.open(image_path).convert(\"RGB\")\n",
        "\n",
        "    input_image = transform(image)\n",
        "    input_image = input_image.unsqueeze(0)\n",
        "\n",
        "    with torch.no_grad():\n",
        "        output = model(input_image)\n",
        "\n",
        "    detection_results = process_detection_results(output, img_info[\"id\"])\n",
        "    val_detection_results.extend(detection_results)\n",
        "\n",
        "for img_id in test_coco.getImgIds():\n",
        "    img_info = test_coco.loadImgs(img_id)[0]\n",
        "    image_path = \"/content/test/\" + img_info[\"images_test\"]\n",
        "    image = Image.open(image_path).convert(\"RGB\")\n",
        "\n",
        "    input_image = transform(image)\n",
        "    input_image = input_image.unsqueeze(0)\n",
        "\n",
        "    with torch.no_grad():\n",
        "        output = model(input_image)\n",
        "\n",
        "    detection_results = process_detection_results(output, img_info[\"id\"])\n",
        "    test_detection_results.extend(detection_results)\n",
        "\n",
        "val_detections = val_coco.loadRes(val_detection_results)\n",
        "val_eval = COCOeval(val_coco, val_detections, iouType=\"bbox\")\n",
        "val_eval.evaluate()\n",
        "val_eval.accumulate()\n",
        "val_eval.summarize()\n",
        "print(\"Validation detection metrics:\")\n",
        "print(val_eval.stats)\n",
        "\n",
        "test_detections = test_coco.loadRes(test_detection_results)\n",
        "test_eval = COCOeval(test_coco, test_detections, iouType=\"bbox\")\n",
        "test_eval.evaluate()\n",
        "test_eval.accumulate()\n",
        "test_eval.summarize()\n",
        "print(\"Test detection metrics:\")\n",
        "print(test_eval.stats)"
      ],
      "metadata": {
        "id": "Nca9lIiP5-7o"
      },
      "execution_count": null,
      "outputs": []
    },
    {
      "cell_type": "code",
      "source": [],
      "metadata": {
        "id": "Wywc6LzE8ZPb"
      },
      "execution_count": null,
      "outputs": []
    }
  ]
}